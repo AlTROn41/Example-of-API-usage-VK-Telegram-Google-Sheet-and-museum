{
 "cells": [
  {
   "cell_type": "markdown",
   "id": "99bc5937-c5f8-4b3c-ab49-e1c94f65b81c",
   "metadata": {},
   "source": [
    "В рамках этого pet-проекта покажу как использовать API музея, позволяющий получать данные о музейных коллекциях, с использованием технологии многопоточности для повышения производительности, записывать в Google Sheet и отправлять полученныe данныe на VK и Telegram. Это задание может пригодиться для большего понимания того, какими способами можно собирать, обрабатывать, отправлять и записывать данные, например, для собственного проекта или другой рабочей задачи. Также вы можете более глубоко изучить документацию, чтобы потом исследовать другие интересные для себя вопросы по полученным данным :)\n",
    "\n",
    "**Описание API**\n",
    "Документация: https://metmuseum.github.io\n",
    "\n",
    "Ключ: для использования выбранного API (на момент написания задания) ключ не требуется :)\n",
    "\n",
    "Всего есть 4 основных раздела:\n",
    "\n",
    "* Объекты (Objects)\n",
    "* Объект (Object) – данные об объекте (например, о картине)\n",
    "* Департаменты (Departments) –  данные о департаменте/разделе (например, \"Современное искусство\") \n",
    "* Поиск (Search) – используется для поиска\n",
    "\n",
    "В рамках задачи поработаем с блоком `Search`.\n",
    "\n",
    "С более подробным описанием каждого доступного параметра можно ознакомиться в документации."
   ]
  },
  {
   "cell_type": "markdown",
   "id": "2608e0ce-f5af-479e-9d09-9607aa2a7859",
   "metadata": {},
   "source": [
    "## Допустим, нам поставили задачу выполните поисковый запрос для департамента \"Asian art\" (departmentId = 6) с тегом \"cat\" и записать id объектов в cat_ids. Нужно получить данные о первой 1000 объектов из списка, а именно – следующие параметры:\n",
    "\n",
    "* objectID – id объекта\n",
    "* title – название\n",
    "* artistDisplayName – автор\n",
    "* department – департамент\n",
    "* objectBeginDate – дата (начало)\n",
    "* objectEndDate – дата (конец)\n",
    "* period – название периода\n",
    "* objectName – название/категория объекта\n",
    "* culture – культура\n",
    "\n",
    "**PS**:\n",
    "Сам запрос к API должен состоять из нескольких параметров. Пример обращения к поиску (Search):**\n",
    "```python\n",
    "r = requests.get('https://collectionapi.metmuseum.org/public/collection/v1/search?q=QUERY')\n",
    "res = r.json()\n",
    "```\n",
    "**где QUERY – ключевое слово.* Передавать несколько параметров можно через \"&\""
   ]
  },
  {
   "cell_type": "code",
   "execution_count": 1,
   "id": "fb7ca83b-754a-4792-a5cc-3a0a33e5da7c",
   "metadata": {},
   "outputs": [],
   "source": [
    "# 1. Импорт нужных библиотек\n",
    "import requests #Для HTTP запросов\n",
    "import pandas as pd #Для создания датафрейма и манипуляций с ним\n",
    "import numpy as np\n",
    "from concurrent.futures import ThreadPoolExecutor #Для многопоточности"
   ]
  },
  {
   "cell_type": "code",
   "execution_count": 2,
   "id": "807a61a5-ab86-4ac0-9394-308ca9c753f5",
   "metadata": {},
   "outputs": [],
   "source": [
    "# 2. Создаем список необходимых параметров\n",
    "suitable_sections = ['objectID', 'title', 'artistDisplayName',\n",
    "                     'department', 'objectBeginDate', 'objectEndDate',\n",
    "                     'period', 'objectName', 'culture']"
   ]
  },
  {
   "cell_type": "code",
   "execution_count": 3,
   "id": "f69b4485-93a7-4d29-8713-d7b20f5f0219",
   "metadata": {},
   "outputs": [],
   "source": [
    "# 3. Получаем идентификаторы первой 1000 объектов \n",
    "response = requests.get('https://collectionapi.metmuseum.org/public/collection/v1/search?departmentId=6&q=cat')\n",
    "response.raise_for_status()  # Убедимся, что запрос выполнен успешно\n",
    "cat_ids = response.json().get('objectIDs', [])[:1000]\n",
    "\n",
    "# Если список пустой, сразу завершаем\n",
    "if not cat_ids:\n",
    "    raise ValueError(\"No object IDs found for the specified query.\")"
   ]
  },
  {
   "cell_type": "code",
   "execution_count": 4,
   "id": "19725a0e-4a2b-41bd-8a7b-d7255136db34",
   "metadata": {},
   "outputs": [],
   "source": [
    "# 4. Функция для обработки одного объекта\n",
    "def fetch_object(obj_id):\n",
    "    try:\n",
    "        r = requests.get(f'https://collectionapi.metmuseum.org/public/collection/v1/objects/{obj_id}')\n",
    "        r.raise_for_status()  # Проверяем статус ответа\n",
    "        obj_temp = r.json()\n",
    "        # Возвращаем только нужные поля, которые есть в нашем списке параметров\n",
    "        return {i: obj_temp.get(i) for i in suitable_sections}\n",
    "    except Exception as e:\n",
    "        # В случае ошибки возвращаем None или логируем ошибку\n",
    "        print(f\"Error fetching object {obj_id}: {e}\")\n",
    "        return None"
   ]
  },
  {
   "cell_type": "code",
   "execution_count": 5,
   "id": "a17d9786-1ede-46b1-ab84-7e882c3b6ddf",
   "metadata": {},
   "outputs": [],
   "source": [
    "# 5. Многопоточная загрузка данных\n",
    "# Выполнение зависит от количества потоков, на 10 потоках, например занимает примерно 1м\n",
    "with ThreadPoolExecutor(max_workers=10) as executor:  # Параллельно загружаем данные в список result\n",
    "    results = list(executor.map(fetch_object, cat_ids))"
   ]
  },
  {
   "cell_type": "code",
   "execution_count": 6,
   "id": "0523a519-5b4b-40bc-8d33-8ea6fadecf15",
   "metadata": {},
   "outputs": [],
   "source": [
    "# 6. Удаляем пустые результаты (ошибки) и записываем в наш лист\n",
    "results = [result for result in results if result is not None]"
   ]
  },
  {
   "cell_type": "code",
   "execution_count": 7,
   "id": "abf6c3e0-4006-4174-a66d-d118184b5f45",
   "metadata": {},
   "outputs": [],
   "source": [
    "# 7. Преобразуем данные в DataFrame\n",
    "final_df = pd.DataFrame(results)"
   ]
  },
  {
   "cell_type": "code",
   "execution_count": 8,
   "id": "e29473af-8c78-4b3f-977c-bce3c45e34de",
   "metadata": {},
   "outputs": [
    {
     "data": {
      "text/html": [
       "<div>\n",
       "<style scoped>\n",
       "    .dataframe tbody tr th:only-of-type {\n",
       "        vertical-align: middle;\n",
       "    }\n",
       "\n",
       "    .dataframe tbody tr th {\n",
       "        vertical-align: top;\n",
       "    }\n",
       "\n",
       "    .dataframe thead th {\n",
       "        text-align: right;\n",
       "    }\n",
       "</style>\n",
       "<table border=\"1\" class=\"dataframe\">\n",
       "  <thead>\n",
       "    <tr style=\"text-align: right;\">\n",
       "      <th></th>\n",
       "      <th>objectID</th>\n",
       "      <th>title</th>\n",
       "      <th>artistDisplayName</th>\n",
       "      <th>department</th>\n",
       "      <th>objectBeginDate</th>\n",
       "      <th>objectEndDate</th>\n",
       "      <th>period</th>\n",
       "      <th>objectName</th>\n",
       "      <th>culture</th>\n",
       "    </tr>\n",
       "  </thead>\n",
       "  <tbody>\n",
       "    <tr>\n",
       "      <th>0</th>\n",
       "      <td>49698</td>\n",
       "      <td>Cat</td>\n",
       "      <td>Zhang Yuguang</td>\n",
       "      <td>Asian Art</td>\n",
       "      <td>1900</td>\n",
       "      <td>1968</td>\n",
       "      <td></td>\n",
       "      <td>Folding fan mounted as an album leaf</td>\n",
       "      <td>China</td>\n",
       "    </tr>\n",
       "    <tr>\n",
       "      <th>1</th>\n",
       "      <td>49470</td>\n",
       "      <td>Cat</td>\n",
       "      <td>Wang Li</td>\n",
       "      <td>Asian Art</td>\n",
       "      <td>1813</td>\n",
       "      <td>1879</td>\n",
       "      <td>Qing dynasty (1644–1911)</td>\n",
       "      <td>Hanging scroll</td>\n",
       "      <td>China</td>\n",
       "    </tr>\n",
       "    <tr>\n",
       "      <th>2</th>\n",
       "      <td>36221</td>\n",
       "      <td>Cat</td>\n",
       "      <td>Wang Yun</td>\n",
       "      <td>Asian Art</td>\n",
       "      <td>1900</td>\n",
       "      <td>1933</td>\n",
       "      <td></td>\n",
       "      <td>Hanging scroll</td>\n",
       "      <td>China</td>\n",
       "    </tr>\n",
       "  </tbody>\n",
       "</table>\n",
       "</div>"
      ],
      "text/plain": [
       "   objectID title artistDisplayName department  objectBeginDate  \\\n",
       "0     49698   Cat     Zhang Yuguang  Asian Art             1900   \n",
       "1     49470   Cat           Wang Li  Asian Art             1813   \n",
       "2     36221   Cat          Wang Yun  Asian Art             1900   \n",
       "\n",
       "   objectEndDate                    period  \\\n",
       "0           1968                             \n",
       "1           1879  Qing dynasty (1644–1911)   \n",
       "2           1933                             \n",
       "\n",
       "                             objectName culture  \n",
       "0  Folding fan mounted as an album leaf   China  \n",
       "1                        Hanging scroll   China  \n",
       "2                        Hanging scroll   China  "
      ]
     },
     "execution_count": 8,
     "metadata": {},
     "output_type": "execute_result"
    }
   ],
   "source": [
    "# Просмотр полученных данных\n",
    "final_df.head(3) "
   ]
  },
  {
   "cell_type": "markdown",
   "id": "98772230-9aa8-4af8-a424-344a0e4f2dad",
   "metadata": {},
   "source": [
    "### Запись датафрейма в Google Sheet"
   ]
  },
  {
   "cell_type": "code",
   "execution_count": 9,
   "id": "0947c486-ed79-4551-98d5-041b3928cf83",
   "metadata": {},
   "outputs": [
    {
     "name": "stdout",
     "output_type": "stream",
     "text": [
      "Данные успешно записаны в Google Sheets!\n"
     ]
    }
   ],
   "source": [
    "# 1. Импортируем дополнительные библиотеки для работы с Google Sheet\n",
    "import gspread\n",
    "from gspread_dataframe import set_with_dataframe\n",
    "\n",
    "# 2. Авторизация (как создать сервисный аккаунт google https://support.google.com/a/answer/7378726?hl=ru)\n",
    "gc = gspread.service_account(filename='keen-scion-11111-s1-622df2b2c883.json') #Путь до файла с авторизацией\n",
    "\n",
    "# 3. Создаем таблицу по её имени\n",
    "sh = gc.create('new_tab')\n",
    "                #Или\n",
    "# Открываем существующую таблицу по её имени, если уже создали\n",
    "# sh = gc.open('new_tab')\n",
    "\n",
    "# 4. Делаем таблицу доступной для пользователя, если нужно кому-то отправить для просмотра или редактирования\n",
    "# !!!Обязательно открывайте доступ для своей почты, с которой будете просматривать или редактировать\n",
    "sh.share('ex@gmail.com', perm_type='user', role='writer')\n",
    "\n",
    "# 5. Открываем первый рабочий лист\n",
    "worksheet = sh.sheet1  # Получаем первый лист, если нужно\n",
    "                #Или\n",
    "# Получаем доступ к листу по имени\n",
    "# worksheet = sh.worksheet('Sheet1')\n",
    "                #Или\n",
    "# Добавляем новый лист с именем \"Ваше имя страницы\" если нужно\n",
    "# worksheet = sh.add_worksheet(title=\"Ваше имя страницы\", rows=\"100\", cols=\"20\")\n",
    "\n",
    "# 6. Проверяйте наличие DataFrame и его содержимого\n",
    "if not final_df.empty:\n",
    "    # Записываем DataFrame в Google Sheets\n",
    "    set_with_dataframe(worksheet, final_df, include_index=False)\n",
    "\n",
    "    print(\"Данные успешно записаны в Google Sheets!\")\n",
    "else:\n",
    "    print(\"DataFrame пуст, данные не записаны.\")"
   ]
  },
  {
   "cell_type": "code",
   "execution_count": 10,
   "id": "e4fef12d-d72b-484c-b68a-0223d6ac6552",
   "metadata": {},
   "outputs": [],
   "source": [
    "# Получаем ссылку нашей таблицы для быстрого доступа\n",
    "link = sh.url"
   ]
  },
  {
   "cell_type": "markdown",
   "id": "c886895e-7cdf-4188-ad1e-78bd0211136a",
   "metadata": {},
   "source": [
    "### Отправка полученной ссылки Google Sheet с данными на VK и Telegram \n",
    "**Рассылка данных через мессенджеры позволяет сотрудникам легко и удобно получать необходимую информацию ежедневно.**"
   ]
  },
  {
   "cell_type": "markdown",
   "id": "71f75aba-7c3e-4691-9fd8-c2da163981e1",
   "metadata": {},
   "source": [
    "#### Telegram"
   ]
  },
  {
   "cell_type": "code",
   "execution_count": 11,
   "id": "e1bc112f-1e4b-4a51-b71d-81378e09b7a7",
   "metadata": {},
   "outputs": [
    {
     "name": "stdout",
     "output_type": "stream",
     "text": [
      "Сообщение отправлено успешно!\n"
     ]
    }
   ],
   "source": [
    "# Ваш токен бота (как создать бота https://core.telegram.org/bots/tutorial)\n",
    "TOKEN = '6476859971:AAE-ZDtx'\n",
    "# ID пользователя или беседы, куда хотите отправить сообщение\n",
    "CHAT_ID = '4169987'  # Замените на ID вашего рабочего чата с коллегами\n",
    "\n",
    "# Данные для отправки\n",
    "message = 'Здравствуйте, коллеги! Ежедневная рассылка данных:\\n\\n' + link\n",
    "\n",
    "def send_telegram_message(token, chat_id, message):\n",
    "    # Формируем URL для отправки сообщения\n",
    "    url = f'https://api.telegram.org/bot{token}/sendMessage'\n",
    "    \n",
    "    # Параметры запроса\n",
    "    params = {\n",
    "        'chat_id': chat_id,\n",
    "        'text': message\n",
    "    }\n",
    "    try:\n",
    "        # Отправляем POST-запрос\n",
    "        response = requests.post(url, params=params)\n",
    "        # Проверяем статус ответа\n",
    "        if response.status_code == 200:\n",
    "            print('Сообщение отправлено успешно!')\n",
    "        else:\n",
    "            print(f'Ошибка при отправке сообщения: {response.status_code}, {response.text}')\n",
    "    except requests.RequestException as e:\n",
    "        print(f'Ошибка подключения к Telegram API: {e}')\n",
    "\n",
    "# Вызов функции\n",
    "send_telegram_message(TOKEN, CHAT_ID, message)"
   ]
  },
  {
   "cell_type": "markdown",
   "id": "6122bcc5-1688-4233-96aa-ef6f508c97e0",
   "metadata": {},
   "source": [
    "### VK"
   ]
  },
  {
   "cell_type": "code",
   "execution_count": 12,
   "id": "6d3b0fbc-ab3d-4759-8f7d-9270710efd1e",
   "metadata": {},
   "outputs": [
    {
     "name": "stdout",
     "output_type": "stream",
     "text": [
      "Сообщение успешно отправлено.\n"
     ]
    }
   ],
   "source": [
    "# Импортируем дополнительные библиотеки для работы с VK\n",
    "import vk_api\n",
    "\n",
    "# Токен доступа\n",
    "TOKEN = 'vk1.a.Bbt7bmA3JLfnayNFkl9llSKi0JaPKQJ_MuA-VjXkZCr_t_QiqnfDfK8_cYJQmK3SmKQr-hBDzWyLT60c18paFoj7svfBvStoRDnj4NiJxK7is-A'\n",
    "# ID пользователя или беседы, куда хотите отправить сообщение\n",
    "CHAT_ID = 1 # Замените на ID вашего рабочего чата с коллегами\n",
    "\n",
    "# Данные для отправки\n",
    "message = 'Здравствуйте, коллеги! Ежедневная рассылка данных:\\n\\n' + link\n",
    "\n",
    "def send_vk_message(token, chat_id, message):\n",
    "    try:\n",
    "        vk_session = vk_api.VkApi(token=token)\n",
    "        vk = vk_session.get_api()\n",
    "        \n",
    "        vk.messages.send(\n",
    "            chat_id=chat_id,\n",
    "            random_id=np.random.randint(0, 2**31 - 1), # Уникальный ID сообщения (любое число, чтобы исключить дубли)\n",
    "            message=message,\n",
    "        )\n",
    "        print(\"Сообщение отправлено успешно!\")\n",
    "    except vk_api.exceptions.ApiError as e:\n",
    "        print(f\"Ошибка VK API: {e}\")\n",
    "    except Exception as ex:\n",
    "        print(f\"Неизвестная ошибка: {ex}\")\n",
    "\n",
    "send_vk_message(TOKEN, CHAT_ID, message)"
   ]
  }
 ],
 "metadata": {
  "kernelspec": {
   "display_name": "Python 3 (ipykernel)",
   "language": "python",
   "name": "python3"
  },
  "language_info": {
   "codemirror_mode": {
    "name": "ipython",
    "version": 3
   },
   "file_extension": ".py",
   "mimetype": "text/x-python",
   "name": "python",
   "nbconvert_exporter": "python",
   "pygments_lexer": "ipython3",
   "version": "3.12.4"
  }
 },
 "nbformat": 4,
 "nbformat_minor": 5
}
